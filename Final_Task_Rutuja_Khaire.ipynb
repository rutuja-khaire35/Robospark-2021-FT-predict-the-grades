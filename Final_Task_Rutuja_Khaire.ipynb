{
  "nbformat": 4,
  "nbformat_minor": 0,
  "metadata": {
    "colab": {
      "name": "Predict_the_Grades.ipynb",
      "provenance": [],
      "collapsed_sections": []
    },
    "kernelspec": {
      "name": "python3",
      "display_name": "Python 3"
    },
    "language_info": {
      "name": "python"
    }
  },
  "cells": [
    {
      "cell_type": "code",
      "metadata": {
        "id": "0AhPk3e5sQgF",
        "colab": {
          "base_uri": "https://localhost:8080/"
        },
        "outputId": "208baaba-2f42-45b5-d094-844c58839c89"
      },
      "source": [
        "from google.colab import drive\n",
        "drive.mount('/content/drive')"
      ],
      "execution_count": 3,
      "outputs": [
        {
          "output_type": "stream",
          "name": "stdout",
          "text": [
            "Mounted at /content/drive\n"
          ]
        }
      ]
    },
    {
      "cell_type": "code",
      "metadata": {
        "id": "xgIISjEvtPSf"
      },
      "source": [
        "import pandas as pd       \n",
        "import numpy as np \n",
        "from sklearn import preprocessing \n",
        "from sklearn.model_selection import train_test_split\n",
        "from sklearn.tree import DecisionTreeRegressor"
      ],
      "execution_count": 43,
      "outputs": []
    },
    {
      "cell_type": "code",
      "metadata": {
        "id": "yCdIJ7ZbtnSY"
      },
      "source": [
        "path = '/content/drive/MyDrive/Data/student-por.csv'\n",
        "df = pd.read_csv(path, sep=\";\") "
      ],
      "execution_count": 55,
      "outputs": []
    },
    {
      "cell_type": "code",
      "metadata": {
        "id": "jZtJoUKxwxl4",
        "colab": {
          "base_uri": "https://localhost:8080/",
          "height": 226
        },
        "outputId": "bdfd5c7e-9574-46fc-fd56-b39a6053adf8"
      },
      "source": [
        "df.head()"
      ],
      "execution_count": 35,
      "outputs": [
        {
          "output_type": "execute_result",
          "data": {
            "text/html": [
              "<div>\n",
              "<style scoped>\n",
              "    .dataframe tbody tr th:only-of-type {\n",
              "        vertical-align: middle;\n",
              "    }\n",
              "\n",
              "    .dataframe tbody tr th {\n",
              "        vertical-align: top;\n",
              "    }\n",
              "\n",
              "    .dataframe thead th {\n",
              "        text-align: right;\n",
              "    }\n",
              "</style>\n",
              "<table border=\"1\" class=\"dataframe\">\n",
              "  <thead>\n",
              "    <tr style=\"text-align: right;\">\n",
              "      <th></th>\n",
              "      <th>school</th>\n",
              "      <th>sex</th>\n",
              "      <th>age</th>\n",
              "      <th>address</th>\n",
              "      <th>famsize</th>\n",
              "      <th>Pstatus</th>\n",
              "      <th>Medu</th>\n",
              "      <th>Fedu</th>\n",
              "      <th>Mjob</th>\n",
              "      <th>Fjob</th>\n",
              "      <th>reason</th>\n",
              "      <th>guardian</th>\n",
              "      <th>traveltime</th>\n",
              "      <th>studytime</th>\n",
              "      <th>failures</th>\n",
              "      <th>schoolsup</th>\n",
              "      <th>famsup</th>\n",
              "      <th>paid</th>\n",
              "      <th>activities</th>\n",
              "      <th>nursery</th>\n",
              "      <th>higher</th>\n",
              "      <th>internet</th>\n",
              "      <th>romantic</th>\n",
              "      <th>famrel</th>\n",
              "      <th>freetime</th>\n",
              "      <th>goout</th>\n",
              "      <th>Dalc</th>\n",
              "      <th>Walc</th>\n",
              "      <th>health</th>\n",
              "      <th>absences</th>\n",
              "      <th>G1</th>\n",
              "      <th>G2</th>\n",
              "      <th>G3</th>\n",
              "    </tr>\n",
              "  </thead>\n",
              "  <tbody>\n",
              "    <tr>\n",
              "      <th>0</th>\n",
              "      <td>GP</td>\n",
              "      <td>F</td>\n",
              "      <td>18</td>\n",
              "      <td>U</td>\n",
              "      <td>GT3</td>\n",
              "      <td>A</td>\n",
              "      <td>4</td>\n",
              "      <td>4</td>\n",
              "      <td>at_home</td>\n",
              "      <td>teacher</td>\n",
              "      <td>course</td>\n",
              "      <td>mother</td>\n",
              "      <td>2</td>\n",
              "      <td>2</td>\n",
              "      <td>0</td>\n",
              "      <td>yes</td>\n",
              "      <td>no</td>\n",
              "      <td>no</td>\n",
              "      <td>no</td>\n",
              "      <td>yes</td>\n",
              "      <td>yes</td>\n",
              "      <td>no</td>\n",
              "      <td>no</td>\n",
              "      <td>4</td>\n",
              "      <td>3</td>\n",
              "      <td>4</td>\n",
              "      <td>1</td>\n",
              "      <td>1</td>\n",
              "      <td>3</td>\n",
              "      <td>4</td>\n",
              "      <td>0</td>\n",
              "      <td>11</td>\n",
              "      <td>11</td>\n",
              "    </tr>\n",
              "    <tr>\n",
              "      <th>1</th>\n",
              "      <td>GP</td>\n",
              "      <td>F</td>\n",
              "      <td>17</td>\n",
              "      <td>U</td>\n",
              "      <td>GT3</td>\n",
              "      <td>T</td>\n",
              "      <td>1</td>\n",
              "      <td>1</td>\n",
              "      <td>at_home</td>\n",
              "      <td>other</td>\n",
              "      <td>course</td>\n",
              "      <td>father</td>\n",
              "      <td>1</td>\n",
              "      <td>2</td>\n",
              "      <td>0</td>\n",
              "      <td>no</td>\n",
              "      <td>yes</td>\n",
              "      <td>no</td>\n",
              "      <td>no</td>\n",
              "      <td>no</td>\n",
              "      <td>yes</td>\n",
              "      <td>yes</td>\n",
              "      <td>no</td>\n",
              "      <td>5</td>\n",
              "      <td>3</td>\n",
              "      <td>3</td>\n",
              "      <td>1</td>\n",
              "      <td>1</td>\n",
              "      <td>3</td>\n",
              "      <td>2</td>\n",
              "      <td>9</td>\n",
              "      <td>11</td>\n",
              "      <td>11</td>\n",
              "    </tr>\n",
              "    <tr>\n",
              "      <th>2</th>\n",
              "      <td>GP</td>\n",
              "      <td>F</td>\n",
              "      <td>15</td>\n",
              "      <td>U</td>\n",
              "      <td>LE3</td>\n",
              "      <td>T</td>\n",
              "      <td>1</td>\n",
              "      <td>1</td>\n",
              "      <td>at_home</td>\n",
              "      <td>other</td>\n",
              "      <td>other</td>\n",
              "      <td>mother</td>\n",
              "      <td>1</td>\n",
              "      <td>2</td>\n",
              "      <td>0</td>\n",
              "      <td>yes</td>\n",
              "      <td>no</td>\n",
              "      <td>no</td>\n",
              "      <td>no</td>\n",
              "      <td>yes</td>\n",
              "      <td>yes</td>\n",
              "      <td>yes</td>\n",
              "      <td>no</td>\n",
              "      <td>4</td>\n",
              "      <td>3</td>\n",
              "      <td>2</td>\n",
              "      <td>2</td>\n",
              "      <td>3</td>\n",
              "      <td>3</td>\n",
              "      <td>6</td>\n",
              "      <td>12</td>\n",
              "      <td>13</td>\n",
              "      <td>12</td>\n",
              "    </tr>\n",
              "    <tr>\n",
              "      <th>3</th>\n",
              "      <td>GP</td>\n",
              "      <td>F</td>\n",
              "      <td>15</td>\n",
              "      <td>U</td>\n",
              "      <td>GT3</td>\n",
              "      <td>T</td>\n",
              "      <td>4</td>\n",
              "      <td>2</td>\n",
              "      <td>health</td>\n",
              "      <td>services</td>\n",
              "      <td>home</td>\n",
              "      <td>mother</td>\n",
              "      <td>1</td>\n",
              "      <td>3</td>\n",
              "      <td>0</td>\n",
              "      <td>no</td>\n",
              "      <td>yes</td>\n",
              "      <td>no</td>\n",
              "      <td>yes</td>\n",
              "      <td>yes</td>\n",
              "      <td>yes</td>\n",
              "      <td>yes</td>\n",
              "      <td>yes</td>\n",
              "      <td>3</td>\n",
              "      <td>2</td>\n",
              "      <td>2</td>\n",
              "      <td>1</td>\n",
              "      <td>1</td>\n",
              "      <td>5</td>\n",
              "      <td>0</td>\n",
              "      <td>14</td>\n",
              "      <td>14</td>\n",
              "      <td>14</td>\n",
              "    </tr>\n",
              "    <tr>\n",
              "      <th>4</th>\n",
              "      <td>GP</td>\n",
              "      <td>F</td>\n",
              "      <td>16</td>\n",
              "      <td>U</td>\n",
              "      <td>GT3</td>\n",
              "      <td>T</td>\n",
              "      <td>3</td>\n",
              "      <td>3</td>\n",
              "      <td>other</td>\n",
              "      <td>other</td>\n",
              "      <td>home</td>\n",
              "      <td>father</td>\n",
              "      <td>1</td>\n",
              "      <td>2</td>\n",
              "      <td>0</td>\n",
              "      <td>no</td>\n",
              "      <td>yes</td>\n",
              "      <td>no</td>\n",
              "      <td>no</td>\n",
              "      <td>yes</td>\n",
              "      <td>yes</td>\n",
              "      <td>no</td>\n",
              "      <td>no</td>\n",
              "      <td>4</td>\n",
              "      <td>3</td>\n",
              "      <td>2</td>\n",
              "      <td>1</td>\n",
              "      <td>2</td>\n",
              "      <td>5</td>\n",
              "      <td>0</td>\n",
              "      <td>11</td>\n",
              "      <td>13</td>\n",
              "      <td>13</td>\n",
              "    </tr>\n",
              "  </tbody>\n",
              "</table>\n",
              "</div>"
            ],
            "text/plain": [
              "  school sex  age address famsize Pstatus  ...  Walc  health absences  G1  G2  G3\n",
              "0     GP   F   18       U     GT3       A  ...     1       3        4   0  11  11\n",
              "1     GP   F   17       U     GT3       T  ...     1       3        2   9  11  11\n",
              "2     GP   F   15       U     LE3       T  ...     3       3        6  12  13  12\n",
              "3     GP   F   15       U     GT3       T  ...     1       5        0  14  14  14\n",
              "4     GP   F   16       U     GT3       T  ...     2       5        0  11  13  13\n",
              "\n",
              "[5 rows x 33 columns]"
            ]
          },
          "metadata": {},
          "execution_count": 35
        }
      ]
    },
    {
      "cell_type": "code",
      "metadata": {
        "id": "NRXMeaoPuEGX",
        "colab": {
          "base_uri": "https://localhost:8080/"
        },
        "outputId": "21f463e9-eec8-4a31-93b3-eb05ce077900"
      },
      "source": [
        "df.info()"
      ],
      "execution_count": 7,
      "outputs": [
        {
          "output_type": "stream",
          "name": "stdout",
          "text": [
            "<class 'pandas.core.frame.DataFrame'>\n",
            "RangeIndex: 649 entries, 0 to 648\n",
            "Data columns (total 33 columns):\n",
            " #   Column      Non-Null Count  Dtype \n",
            "---  ------      --------------  ----- \n",
            " 0   school      649 non-null    object\n",
            " 1   sex         649 non-null    object\n",
            " 2   age         649 non-null    int64 \n",
            " 3   address     649 non-null    object\n",
            " 4   famsize     649 non-null    object\n",
            " 5   Pstatus     649 non-null    object\n",
            " 6   Medu        649 non-null    int64 \n",
            " 7   Fedu        649 non-null    int64 \n",
            " 8   Mjob        649 non-null    object\n",
            " 9   Fjob        649 non-null    object\n",
            " 10  reason      649 non-null    object\n",
            " 11  guardian    649 non-null    object\n",
            " 12  traveltime  649 non-null    int64 \n",
            " 13  studytime   649 non-null    int64 \n",
            " 14  failures    649 non-null    int64 \n",
            " 15  schoolsup   649 non-null    object\n",
            " 16  famsup      649 non-null    object\n",
            " 17  paid        649 non-null    object\n",
            " 18  activities  649 non-null    object\n",
            " 19  nursery     649 non-null    object\n",
            " 20  higher      649 non-null    object\n",
            " 21  internet    649 non-null    object\n",
            " 22  romantic    649 non-null    object\n",
            " 23  famrel      649 non-null    int64 \n",
            " 24  freetime    649 non-null    int64 \n",
            " 25  goout       649 non-null    int64 \n",
            " 26  Dalc        649 non-null    int64 \n",
            " 27  Walc        649 non-null    int64 \n",
            " 28  health      649 non-null    int64 \n",
            " 29  absences    649 non-null    int64 \n",
            " 30  G1          649 non-null    int64 \n",
            " 31  G2          649 non-null    int64 \n",
            " 32  G3          649 non-null    int64 \n",
            "dtypes: int64(16), object(17)\n",
            "memory usage: 167.4+ KB\n"
          ]
        }
      ]
    },
    {
      "cell_type": "code",
      "metadata": {
        "id": "pjf5LnCfuOxI",
        "colab": {
          "base_uri": "https://localhost:8080/"
        },
        "outputId": "abfb2de9-d4e6-4433-ec06-88d8dad7d578"
      },
      "source": [
        "df.isnull().sum()"
      ],
      "execution_count": 8,
      "outputs": [
        {
          "output_type": "execute_result",
          "data": {
            "text/plain": [
              "school        0\n",
              "sex           0\n",
              "age           0\n",
              "address       0\n",
              "famsize       0\n",
              "Pstatus       0\n",
              "Medu          0\n",
              "Fedu          0\n",
              "Mjob          0\n",
              "Fjob          0\n",
              "reason        0\n",
              "guardian      0\n",
              "traveltime    0\n",
              "studytime     0\n",
              "failures      0\n",
              "schoolsup     0\n",
              "famsup        0\n",
              "paid          0\n",
              "activities    0\n",
              "nursery       0\n",
              "higher        0\n",
              "internet      0\n",
              "romantic      0\n",
              "famrel        0\n",
              "freetime      0\n",
              "goout         0\n",
              "Dalc          0\n",
              "Walc          0\n",
              "health        0\n",
              "absences      0\n",
              "G1            0\n",
              "G2            0\n",
              "G3            0\n",
              "dtype: int64"
            ]
          },
          "metadata": {},
          "execution_count": 8
        }
      ]
    },
    {
      "cell_type": "code",
      "metadata": {
        "colab": {
          "base_uri": "https://localhost:8080/",
          "height": 571
        },
        "id": "a-jivsJWZCxM",
        "outputId": "6a24da5a-8413-4c7a-fb50-0c1dad6b2286"
      },
      "source": [
        "df.corr()"
      ],
      "execution_count": 9,
      "outputs": [
        {
          "output_type": "execute_result",
          "data": {
            "text/html": [
              "<div>\n",
              "<style scoped>\n",
              "    .dataframe tbody tr th:only-of-type {\n",
              "        vertical-align: middle;\n",
              "    }\n",
              "\n",
              "    .dataframe tbody tr th {\n",
              "        vertical-align: top;\n",
              "    }\n",
              "\n",
              "    .dataframe thead th {\n",
              "        text-align: right;\n",
              "    }\n",
              "</style>\n",
              "<table border=\"1\" class=\"dataframe\">\n",
              "  <thead>\n",
              "    <tr style=\"text-align: right;\">\n",
              "      <th></th>\n",
              "      <th>age</th>\n",
              "      <th>Medu</th>\n",
              "      <th>Fedu</th>\n",
              "      <th>traveltime</th>\n",
              "      <th>studytime</th>\n",
              "      <th>failures</th>\n",
              "      <th>famrel</th>\n",
              "      <th>freetime</th>\n",
              "      <th>goout</th>\n",
              "      <th>Dalc</th>\n",
              "      <th>Walc</th>\n",
              "      <th>health</th>\n",
              "      <th>absences</th>\n",
              "      <th>G1</th>\n",
              "      <th>G2</th>\n",
              "      <th>G3</th>\n",
              "    </tr>\n",
              "  </thead>\n",
              "  <tbody>\n",
              "    <tr>\n",
              "      <th>age</th>\n",
              "      <td>1.000000</td>\n",
              "      <td>-0.107832</td>\n",
              "      <td>-0.121050</td>\n",
              "      <td>0.034490</td>\n",
              "      <td>-0.008415</td>\n",
              "      <td>0.319968</td>\n",
              "      <td>-0.020559</td>\n",
              "      <td>-0.004910</td>\n",
              "      <td>0.112805</td>\n",
              "      <td>0.134768</td>\n",
              "      <td>0.086357</td>\n",
              "      <td>-0.008750</td>\n",
              "      <td>0.149998</td>\n",
              "      <td>-0.174322</td>\n",
              "      <td>-0.107119</td>\n",
              "      <td>-0.106505</td>\n",
              "    </tr>\n",
              "    <tr>\n",
              "      <th>Medu</th>\n",
              "      <td>-0.107832</td>\n",
              "      <td>1.000000</td>\n",
              "      <td>0.647477</td>\n",
              "      <td>-0.265079</td>\n",
              "      <td>0.097006</td>\n",
              "      <td>-0.172210</td>\n",
              "      <td>0.024421</td>\n",
              "      <td>-0.019686</td>\n",
              "      <td>0.009536</td>\n",
              "      <td>-0.007018</td>\n",
              "      <td>-0.019766</td>\n",
              "      <td>0.004614</td>\n",
              "      <td>-0.008577</td>\n",
              "      <td>0.260472</td>\n",
              "      <td>0.264035</td>\n",
              "      <td>0.240151</td>\n",
              "    </tr>\n",
              "    <tr>\n",
              "      <th>Fedu</th>\n",
              "      <td>-0.121050</td>\n",
              "      <td>0.647477</td>\n",
              "      <td>1.000000</td>\n",
              "      <td>-0.208288</td>\n",
              "      <td>0.050400</td>\n",
              "      <td>-0.165915</td>\n",
              "      <td>0.020256</td>\n",
              "      <td>0.006841</td>\n",
              "      <td>0.027690</td>\n",
              "      <td>0.000061</td>\n",
              "      <td>0.038445</td>\n",
              "      <td>0.044910</td>\n",
              "      <td>0.029859</td>\n",
              "      <td>0.217501</td>\n",
              "      <td>0.225139</td>\n",
              "      <td>0.211800</td>\n",
              "    </tr>\n",
              "    <tr>\n",
              "      <th>traveltime</th>\n",
              "      <td>0.034490</td>\n",
              "      <td>-0.265079</td>\n",
              "      <td>-0.208288</td>\n",
              "      <td>1.000000</td>\n",
              "      <td>-0.063154</td>\n",
              "      <td>0.097730</td>\n",
              "      <td>-0.009521</td>\n",
              "      <td>0.000937</td>\n",
              "      <td>0.057454</td>\n",
              "      <td>0.092824</td>\n",
              "      <td>0.057007</td>\n",
              "      <td>-0.048261</td>\n",
              "      <td>-0.008149</td>\n",
              "      <td>-0.154120</td>\n",
              "      <td>-0.154489</td>\n",
              "      <td>-0.127173</td>\n",
              "    </tr>\n",
              "    <tr>\n",
              "      <th>studytime</th>\n",
              "      <td>-0.008415</td>\n",
              "      <td>0.097006</td>\n",
              "      <td>0.050400</td>\n",
              "      <td>-0.063154</td>\n",
              "      <td>1.000000</td>\n",
              "      <td>-0.147441</td>\n",
              "      <td>-0.004127</td>\n",
              "      <td>-0.068829</td>\n",
              "      <td>-0.075442</td>\n",
              "      <td>-0.137585</td>\n",
              "      <td>-0.214925</td>\n",
              "      <td>-0.056433</td>\n",
              "      <td>-0.118389</td>\n",
              "      <td>0.260875</td>\n",
              "      <td>0.240498</td>\n",
              "      <td>0.249789</td>\n",
              "    </tr>\n",
              "    <tr>\n",
              "      <th>failures</th>\n",
              "      <td>0.319968</td>\n",
              "      <td>-0.172210</td>\n",
              "      <td>-0.165915</td>\n",
              "      <td>0.097730</td>\n",
              "      <td>-0.147441</td>\n",
              "      <td>1.000000</td>\n",
              "      <td>-0.062645</td>\n",
              "      <td>0.108995</td>\n",
              "      <td>0.045078</td>\n",
              "      <td>0.105949</td>\n",
              "      <td>0.082266</td>\n",
              "      <td>0.035588</td>\n",
              "      <td>0.122779</td>\n",
              "      <td>-0.384210</td>\n",
              "      <td>-0.385782</td>\n",
              "      <td>-0.393316</td>\n",
              "    </tr>\n",
              "    <tr>\n",
              "      <th>famrel</th>\n",
              "      <td>-0.020559</td>\n",
              "      <td>0.024421</td>\n",
              "      <td>0.020256</td>\n",
              "      <td>-0.009521</td>\n",
              "      <td>-0.004127</td>\n",
              "      <td>-0.062645</td>\n",
              "      <td>1.000000</td>\n",
              "      <td>0.129216</td>\n",
              "      <td>0.089707</td>\n",
              "      <td>-0.075767</td>\n",
              "      <td>-0.093511</td>\n",
              "      <td>0.109559</td>\n",
              "      <td>-0.089534</td>\n",
              "      <td>0.048795</td>\n",
              "      <td>0.089588</td>\n",
              "      <td>0.063361</td>\n",
              "    </tr>\n",
              "    <tr>\n",
              "      <th>freetime</th>\n",
              "      <td>-0.004910</td>\n",
              "      <td>-0.019686</td>\n",
              "      <td>0.006841</td>\n",
              "      <td>0.000937</td>\n",
              "      <td>-0.068829</td>\n",
              "      <td>0.108995</td>\n",
              "      <td>0.129216</td>\n",
              "      <td>1.000000</td>\n",
              "      <td>0.346352</td>\n",
              "      <td>0.109904</td>\n",
              "      <td>0.120244</td>\n",
              "      <td>0.084526</td>\n",
              "      <td>-0.018716</td>\n",
              "      <td>-0.094497</td>\n",
              "      <td>-0.106678</td>\n",
              "      <td>-0.122705</td>\n",
              "    </tr>\n",
              "    <tr>\n",
              "      <th>goout</th>\n",
              "      <td>0.112805</td>\n",
              "      <td>0.009536</td>\n",
              "      <td>0.027690</td>\n",
              "      <td>0.057454</td>\n",
              "      <td>-0.075442</td>\n",
              "      <td>0.045078</td>\n",
              "      <td>0.089707</td>\n",
              "      <td>0.346352</td>\n",
              "      <td>1.000000</td>\n",
              "      <td>0.245126</td>\n",
              "      <td>0.388680</td>\n",
              "      <td>-0.015741</td>\n",
              "      <td>0.085374</td>\n",
              "      <td>-0.074053</td>\n",
              "      <td>-0.079469</td>\n",
              "      <td>-0.087641</td>\n",
              "    </tr>\n",
              "    <tr>\n",
              "      <th>Dalc</th>\n",
              "      <td>0.134768</td>\n",
              "      <td>-0.007018</td>\n",
              "      <td>0.000061</td>\n",
              "      <td>0.092824</td>\n",
              "      <td>-0.137585</td>\n",
              "      <td>0.105949</td>\n",
              "      <td>-0.075767</td>\n",
              "      <td>0.109904</td>\n",
              "      <td>0.245126</td>\n",
              "      <td>1.000000</td>\n",
              "      <td>0.616561</td>\n",
              "      <td>0.059067</td>\n",
              "      <td>0.172952</td>\n",
              "      <td>-0.195171</td>\n",
              "      <td>-0.189480</td>\n",
              "      <td>-0.204719</td>\n",
              "    </tr>\n",
              "    <tr>\n",
              "      <th>Walc</th>\n",
              "      <td>0.086357</td>\n",
              "      <td>-0.019766</td>\n",
              "      <td>0.038445</td>\n",
              "      <td>0.057007</td>\n",
              "      <td>-0.214925</td>\n",
              "      <td>0.082266</td>\n",
              "      <td>-0.093511</td>\n",
              "      <td>0.120244</td>\n",
              "      <td>0.388680</td>\n",
              "      <td>0.616561</td>\n",
              "      <td>1.000000</td>\n",
              "      <td>0.114988</td>\n",
              "      <td>0.156373</td>\n",
              "      <td>-0.155649</td>\n",
              "      <td>-0.164852</td>\n",
              "      <td>-0.176619</td>\n",
              "    </tr>\n",
              "    <tr>\n",
              "      <th>health</th>\n",
              "      <td>-0.008750</td>\n",
              "      <td>0.004614</td>\n",
              "      <td>0.044910</td>\n",
              "      <td>-0.048261</td>\n",
              "      <td>-0.056433</td>\n",
              "      <td>0.035588</td>\n",
              "      <td>0.109559</td>\n",
              "      <td>0.084526</td>\n",
              "      <td>-0.015741</td>\n",
              "      <td>0.059067</td>\n",
              "      <td>0.114988</td>\n",
              "      <td>1.000000</td>\n",
              "      <td>-0.030235</td>\n",
              "      <td>-0.051647</td>\n",
              "      <td>-0.082179</td>\n",
              "      <td>-0.098851</td>\n",
              "    </tr>\n",
              "    <tr>\n",
              "      <th>absences</th>\n",
              "      <td>0.149998</td>\n",
              "      <td>-0.008577</td>\n",
              "      <td>0.029859</td>\n",
              "      <td>-0.008149</td>\n",
              "      <td>-0.118389</td>\n",
              "      <td>0.122779</td>\n",
              "      <td>-0.089534</td>\n",
              "      <td>-0.018716</td>\n",
              "      <td>0.085374</td>\n",
              "      <td>0.172952</td>\n",
              "      <td>0.156373</td>\n",
              "      <td>-0.030235</td>\n",
              "      <td>1.000000</td>\n",
              "      <td>-0.147149</td>\n",
              "      <td>-0.124745</td>\n",
              "      <td>-0.091379</td>\n",
              "    </tr>\n",
              "    <tr>\n",
              "      <th>G1</th>\n",
              "      <td>-0.174322</td>\n",
              "      <td>0.260472</td>\n",
              "      <td>0.217501</td>\n",
              "      <td>-0.154120</td>\n",
              "      <td>0.260875</td>\n",
              "      <td>-0.384210</td>\n",
              "      <td>0.048795</td>\n",
              "      <td>-0.094497</td>\n",
              "      <td>-0.074053</td>\n",
              "      <td>-0.195171</td>\n",
              "      <td>-0.155649</td>\n",
              "      <td>-0.051647</td>\n",
              "      <td>-0.147149</td>\n",
              "      <td>1.000000</td>\n",
              "      <td>0.864982</td>\n",
              "      <td>0.826387</td>\n",
              "    </tr>\n",
              "    <tr>\n",
              "      <th>G2</th>\n",
              "      <td>-0.107119</td>\n",
              "      <td>0.264035</td>\n",
              "      <td>0.225139</td>\n",
              "      <td>-0.154489</td>\n",
              "      <td>0.240498</td>\n",
              "      <td>-0.385782</td>\n",
              "      <td>0.089588</td>\n",
              "      <td>-0.106678</td>\n",
              "      <td>-0.079469</td>\n",
              "      <td>-0.189480</td>\n",
              "      <td>-0.164852</td>\n",
              "      <td>-0.082179</td>\n",
              "      <td>-0.124745</td>\n",
              "      <td>0.864982</td>\n",
              "      <td>1.000000</td>\n",
              "      <td>0.918548</td>\n",
              "    </tr>\n",
              "    <tr>\n",
              "      <th>G3</th>\n",
              "      <td>-0.106505</td>\n",
              "      <td>0.240151</td>\n",
              "      <td>0.211800</td>\n",
              "      <td>-0.127173</td>\n",
              "      <td>0.249789</td>\n",
              "      <td>-0.393316</td>\n",
              "      <td>0.063361</td>\n",
              "      <td>-0.122705</td>\n",
              "      <td>-0.087641</td>\n",
              "      <td>-0.204719</td>\n",
              "      <td>-0.176619</td>\n",
              "      <td>-0.098851</td>\n",
              "      <td>-0.091379</td>\n",
              "      <td>0.826387</td>\n",
              "      <td>0.918548</td>\n",
              "      <td>1.000000</td>\n",
              "    </tr>\n",
              "  </tbody>\n",
              "</table>\n",
              "</div>"
            ],
            "text/plain": [
              "                 age      Medu      Fedu  ...        G1        G2        G3\n",
              "age         1.000000 -0.107832 -0.121050  ... -0.174322 -0.107119 -0.106505\n",
              "Medu       -0.107832  1.000000  0.647477  ...  0.260472  0.264035  0.240151\n",
              "Fedu       -0.121050  0.647477  1.000000  ...  0.217501  0.225139  0.211800\n",
              "traveltime  0.034490 -0.265079 -0.208288  ... -0.154120 -0.154489 -0.127173\n",
              "studytime  -0.008415  0.097006  0.050400  ...  0.260875  0.240498  0.249789\n",
              "failures    0.319968 -0.172210 -0.165915  ... -0.384210 -0.385782 -0.393316\n",
              "famrel     -0.020559  0.024421  0.020256  ...  0.048795  0.089588  0.063361\n",
              "freetime   -0.004910 -0.019686  0.006841  ... -0.094497 -0.106678 -0.122705\n",
              "goout       0.112805  0.009536  0.027690  ... -0.074053 -0.079469 -0.087641\n",
              "Dalc        0.134768 -0.007018  0.000061  ... -0.195171 -0.189480 -0.204719\n",
              "Walc        0.086357 -0.019766  0.038445  ... -0.155649 -0.164852 -0.176619\n",
              "health     -0.008750  0.004614  0.044910  ... -0.051647 -0.082179 -0.098851\n",
              "absences    0.149998 -0.008577  0.029859  ... -0.147149 -0.124745 -0.091379\n",
              "G1         -0.174322  0.260472  0.217501  ...  1.000000  0.864982  0.826387\n",
              "G2         -0.107119  0.264035  0.225139  ...  0.864982  1.000000  0.918548\n",
              "G3         -0.106505  0.240151  0.211800  ...  0.826387  0.918548  1.000000\n",
              "\n",
              "[16 rows x 16 columns]"
            ]
          },
          "metadata": {},
          "execution_count": 9
        }
      ]
    },
    {
      "cell_type": "code",
      "metadata": {
        "id": "dWH7e62lUi0B"
      },
      "source": [
        "label_encoder = LabelEncoder()\n",
        "col = ['school','sex','address','famsize','Pstatus','Mjob','Fjob','reason','guardian','schoolsup','famsup','paid','activities','nursery','higher','internet','romantic']\n",
        "df[col] = df[col].apply(label_encoder.fit_transform)"
      ],
      "execution_count": 56,
      "outputs": []
    },
    {
      "cell_type": "code",
      "metadata": {
        "colab": {
          "base_uri": "https://localhost:8080/"
        },
        "id": "wLWYMXY4ZCaY",
        "outputId": "fc62a637-5b9d-4d48-e0a9-f24282c00228"
      },
      "source": [
        "df.columns"
      ],
      "execution_count": 11,
      "outputs": [
        {
          "output_type": "execute_result",
          "data": {
            "text/plain": [
              "Index(['school', 'sex', 'age', 'address', 'famsize', 'Pstatus', 'Medu', 'Fedu',\n",
              "       'Mjob', 'Fjob', 'reason', 'guardian', 'traveltime', 'studytime',\n",
              "       'failures', 'schoolsup', 'famsup', 'paid', 'activities', 'nursery',\n",
              "       'higher', 'internet', 'romantic', 'famrel', 'freetime', 'goout', 'Dalc',\n",
              "       'Walc', 'health', 'absences', 'G1', 'G2', 'G3'],\n",
              "      dtype='object')"
            ]
          },
          "metadata": {},
          "execution_count": 11
        }
      ]
    },
    {
      "cell_type": "code",
      "metadata": {
        "colab": {
          "base_uri": "https://localhost:8080/",
          "height": 268
        },
        "id": "U6s6InOcZCUS",
        "outputId": "be5947ef-bcda-4f5a-f388-1efba0f976ae"
      },
      "source": [
        "df['G3'].value_counts().plot(kind=\"bar\",color=['g']);"
      ],
      "execution_count": 46,
      "outputs": [
        {
          "output_type": "display_data",
          "data": {
            "image/png": "[encoded data removed]",
            "text/plain": [
              "<Figure size 432x288 with 1 Axes>"
            ]
          },
          "metadata": {
            "needs_background": "light"
          }
        }
      ]
    },
    {
      "cell_type": "code",
      "metadata": {
        "colab": {
          "base_uri": "https://localhost:8080/"
        },
        "id": "imZLcEAXZCQs",
        "outputId": "cbc17fd7-14cb-432b-8cba-ddb56be76e94"
      },
      "source": [
        "x = df.drop(['G3'],axis=1)\n",
        "x.shape"
      ],
      "execution_count": 57,
      "outputs": [
        {
          "output_type": "execute_result",
          "data": {
            "text/plain": [
              "(649, 32)"
            ]
          },
          "metadata": {},
          "execution_count": 57
        }
      ]
    },
    {
      "cell_type": "code",
      "metadata": {
        "colab": {
          "base_uri": "https://localhost:8080/"
        },
        "id": "j7GgfjbcZCNw",
        "outputId": "40d26f23-2e5b-409b-a966-81275cb5073b"
      },
      "source": [
        "y = df['G3']\n",
        "y.shape"
      ],
      "execution_count": 58,
      "outputs": [
        {
          "output_type": "execute_result",
          "data": {
            "text/plain": [
              "(649,)"
            ]
          },
          "metadata": {},
          "execution_count": 58
        }
      ]
    },
    {
      "cell_type": "code",
      "metadata": {
        "id": "g_qqwcIVZCK-"
      },
      "source": [
        "x_train, x_test, y_train, y_test = train_test_split(x, y, test_size=0.2, random_state=100)"
      ],
      "execution_count": 59,
      "outputs": []
    },
    {
      "cell_type": "code",
      "metadata": {
        "colab": {
          "base_uri": "https://localhost:8080/"
        },
        "id": "L6UUujyWRydX",
        "outputId": "44f12d41-d827-4ee3-e81f-3ea2f8bc0487"
      },
      "source": [
        "x_train.shape"
      ],
      "execution_count": 60,
      "outputs": [
        {
          "output_type": "execute_result",
          "data": {
            "text/plain": [
              "(519, 32)"
            ]
          },
          "metadata": {},
          "execution_count": 60
        }
      ]
    },
    {
      "cell_type": "code",
      "metadata": {
        "colab": {
          "base_uri": "https://localhost:8080/"
        },
        "id": "C-0X3ncNRyaA",
        "outputId": "d3f6b19f-61de-44de-fc98-c6e37eeb69ad"
      },
      "source": [
        "y_train.shape"
      ],
      "execution_count": 51,
      "outputs": [
        {
          "output_type": "execute_result",
          "data": {
            "text/plain": [
              "(519,)"
            ]
          },
          "metadata": {},
          "execution_count": 51
        }
      ]
    },
    {
      "cell_type": "code",
      "metadata": {
        "colab": {
          "base_uri": "https://localhost:8080/"
        },
        "id": "SlccxzTJRyXN",
        "outputId": "938493d4-5f56-4908-e4f8-7e802900110d"
      },
      "source": [
        "x_test.shape"
      ],
      "execution_count": 52,
      "outputs": [
        {
          "output_type": "execute_result",
          "data": {
            "text/plain": [
              "(130, 32)"
            ]
          },
          "metadata": {},
          "execution_count": 52
        }
      ]
    },
    {
      "cell_type": "code",
      "metadata": {
        "colab": {
          "base_uri": "https://localhost:8080/"
        },
        "id": "cu85RnvvRyVj",
        "outputId": "4c65907a-5ffd-4a85-ad87-334e89647ca7"
      },
      "source": [
        "y_test.shape"
      ],
      "execution_count": 53,
      "outputs": [
        {
          "output_type": "execute_result",
          "data": {
            "text/plain": [
              "(130,)"
            ]
          },
          "metadata": {},
          "execution_count": 53
        }
      ]
    },
    {
      "cell_type": "code",
      "metadata": {
        "colab": {
          "base_uri": "https://localhost:8080/"
        },
        "id": "c1NnaUU9RySt",
        "outputId": "e7ced86d-00f0-4917-9ea5-961aa670b330"
      },
      "source": [
        "reg1= DecisionTreeRegressor(random_state =100)\n",
        "reg1.fit(x_train, y_train)"
      ],
      "execution_count": 61,
      "outputs": [
        {
          "output_type": "execute_result",
          "data": {
            "text/plain": [
              "DecisionTreeRegressor(ccp_alpha=0.0, criterion='mse', max_depth=None,\n",
              "                      max_features=None, max_leaf_nodes=None,\n",
              "                      min_impurity_decrease=0.0, min_impurity_split=None,\n",
              "                      min_samples_leaf=1, min_samples_split=2,\n",
              "                      min_weight_fraction_leaf=0.0, presort='deprecated',\n",
              "                      random_state=100, splitter='best')"
            ]
          },
          "metadata": {},
          "execution_count": 61
        }
      ]
    },
    {
      "cell_type": "code",
      "metadata": {
        "colab": {
          "base_uri": "https://localhost:8080/"
        },
        "id": "ZV5AWjbHRyPu",
        "outputId": "dd3b4df2-5fb9-421c-8be4-890805bba422"
      },
      "source": [
        "reg1.score(x_test,y_test)"
      ],
      "execution_count": 62,
      "outputs": [
        {
          "output_type": "execute_result",
          "data": {
            "text/plain": [
              "0.7583615138740909"
            ]
          },
          "metadata": {},
          "execution_count": 62
        }
      ]
    }
  ]
}